{
 "cells": [
  {
   "cell_type": "markdown",
   "id": "a9249d0b",
   "metadata": {},
   "source": [
    "# Análisis Exploratorio de Datos (EDA)\n",
    "## Proyecto de Clasificación Multiclase\n",
    "\n",
    "Este notebook contiene el análisis exploratorio del dataset para entender:\n",
    "- Distribución de las clases objetivo\n",
    "- Características del dataset (dimensiones, tipos de datos)\n",
    "- Valores faltantes\n",
    "- Estadísticas descriptivas\n",
    "- Correlaciones entre variables\n",
    "- Visualizaciones clave"
   ]
  },
  {
   "cell_type": "code",
   "execution_count": null,
   "id": "747596ca",
   "metadata": {},
   "outputs": [],
   "source": [
    "# Importar librerías necesarias\n",
    "import pandas as pd\n",
    "import numpy as np\n",
    "import matplotlib.pyplot as plt\n",
    "import seaborn as sns\n",
    "from pathlib import Path\n",
    "import warnings\n",
    "warnings.filterwarnings('ignore')\n",
    "\n",
    "# Configuración de visualización\n",
    "plt.style.use('seaborn-v0_8-darkgrid')\n",
    "sns.set_palette(\"husl\")\n",
    "%matplotlib inline\n",
    "\n",
    "# Configuración de pandas\n",
    "pd.set_option('display.max_columns', None)\n",
    "pd.set_option('display.max_rows', 100)"
   ]
  },
  {
   "cell_type": "markdown",
   "id": "f2bc7ca7",
   "metadata": {},
   "source": [
    "## 1. Carga de Datos"
   ]
  },
  {
   "cell_type": "code",
   "execution_count": null,
   "id": "59ddc528",
   "metadata": {},
   "outputs": [],
   "source": [
    "# Cargar el dataset\n",
    "data_path = Path('../datasets/train.csv')\n",
    "df = pd.read_csv(data_path)\n",
    "\n",
    "print(f\"Dimensiones del dataset: {df.shape}\")\n",
    "print(f\"Número de registros: {df.shape[0]:,}\")\n",
    "print(f\"Número de características: {df.shape[1]:,}\")"
   ]
  },
  {
   "cell_type": "code",
   "execution_count": null,
   "id": "1da5da54",
   "metadata": {},
   "outputs": [],
   "source": [
    "# Primeras filas del dataset\n",
    "df.head(10)"
   ]
  },
  {
   "cell_type": "code",
   "execution_count": null,
   "id": "4021803c",
   "metadata": {},
   "outputs": [],
   "source": [
    "# Información general del dataset\n",
    "df.info()"
   ]
  },
  {
   "cell_type": "markdown",
   "id": "258b3b75",
   "metadata": {},
   "source": [
    "## 2. Análisis de la Variable Objetivo"
   ]
  },
  {
   "cell_type": "code",
   "execution_count": null,
   "id": "22bfe046",
   "metadata": {},
   "outputs": [],
   "source": [
    "# Distribución de clases\n",
    "print(\"\\n=== DISTRIBUCIÓN DE CLASES ===\")\n",
    "print(df['target'].value_counts())\n",
    "print(\"\\nProporción de clases:\")\n",
    "print(df['target'].value_counts(normalize=True).mul(100).round(2))"
   ]
  },
  {
   "cell_type": "code",
   "execution_count": null,
   "id": "ceed3935",
   "metadata": {},
   "outputs": [],
   "source": [
    "# Visualización de la distribución de clases\n",
    "fig, axes = plt.subplots(1, 2, figsize=(15, 5))\n",
    "\n",
    "# Gráfico de barras\n",
    "df['target'].value_counts().plot(kind='bar', ax=axes[0], color='steelblue', edgecolor='black')\n",
    "axes[0].set_title('Distribución de Clases', fontsize=14, fontweight='bold')\n",
    "axes[0].set_xlabel('Clase', fontsize=12)\n",
    "axes[0].set_ylabel('Frecuencia', fontsize=12)\n",
    "axes[0].tick_params(axis='x', rotation=45)\n",
    "\n",
    "# Añadir valores en las barras\n",
    "for i, v in enumerate(df['target'].value_counts()):\n",
    "    axes[0].text(i, v + 100, str(v), ha='center', va='bottom', fontweight='bold')\n",
    "\n",
    "# Gráfico de pastel\n",
    "df['target'].value_counts().plot(kind='pie', ax=axes[1], autopct='%1.1f%%', startangle=90)\n",
    "axes[1].set_title('Proporción de Clases', fontsize=14, fontweight='bold')\n",
    "axes[1].set_ylabel('')\n",
    "\n",
    "plt.tight_layout()\n",
    "plt.show()\n",
    "\n",
    "# Análisis de balance de clases\n",
    "class_counts = df['target'].value_counts()\n",
    "balance_ratio = class_counts.max() / class_counts.min()\n",
    "print(f\"\\nRatio de desbalance: {balance_ratio:.2f}\")\n",
    "if balance_ratio > 3:\n",
    "    print(\"⚠️ Dataset DESBALANCEADO - Considerar técnicas de balanceo (SMOTE, pesos de clase)\")\n",
    "else:\n",
    "    print(\"✓ Dataset relativamente balanceado\")"
   ]
  },
  {
   "cell_type": "markdown",
   "id": "e89e5611",
   "metadata": {},
   "source": [
    "## 3. Análisis de Valores Faltantes"
   ]
  },
  {
   "cell_type": "code",
   "execution_count": null,
   "id": "7155d6b8",
   "metadata": {},
   "outputs": [],
   "source": [
    "# Verificar valores faltantes\n",
    "missing_values = df.isnull().sum()\n",
    "missing_percent = (missing_values / len(df)) * 100\n",
    "\n",
    "missing_df = pd.DataFrame({\n",
    "    'Valores_Faltantes': missing_values,\n",
    "    'Porcentaje': missing_percent\n",
    "}).sort_values('Valores_Faltantes', ascending=False)\n",
    "\n",
    "print(\"=== ANÁLISIS DE VALORES FALTANTES ===\")\n",
    "if missing_df['Valores_Faltantes'].sum() == 0:\n",
    "    print(\"✓ No se encontraron valores faltantes en el dataset\")\n",
    "else:\n",
    "    print(missing_df[missing_df['Valores_Faltantes'] > 0])"
   ]
  },
  {
   "cell_type": "markdown",
   "id": "7fcc407b",
   "metadata": {},
   "source": [
    "## 4. Estadísticas Descriptivas"
   ]
  },
  {
   "cell_type": "code",
   "execution_count": null,
   "id": "ceed44d6",
   "metadata": {},
   "outputs": [],
   "source": [
    "# Separar features y target\n",
    "feature_cols = [col for col in df.columns if col not in ['id', 'target']]\n",
    "X = df[feature_cols]\n",
    "y = df['target']\n",
    "\n",
    "print(f\"Número de características: {len(feature_cols)}\")\n",
    "print(f\"\\nPrimeras características: {feature_cols[:10]}\")"
   ]
  },
  {
   "cell_type": "code",
   "execution_count": null,
   "id": "1a4675a6",
   "metadata": {},
   "outputs": [],
   "source": [
    "# Estadísticas descriptivas\n",
    "X.describe()"
   ]
  },
  {
   "cell_type": "code",
   "execution_count": null,
   "id": "5f81434e",
   "metadata": {},
   "outputs": [],
   "source": [
    "# Distribución de valores por característica\n",
    "fig, axes = plt.subplots(3, 3, figsize=(18, 12))\n",
    "axes = axes.ravel()\n",
    "\n",
    "# Seleccionar 9 características aleatorias para visualizar\n",
    "np.random.seed(42)\n",
    "sample_features = np.random.choice(feature_cols, size=min(9, len(feature_cols)), replace=False)\n",
    "\n",
    "for idx, col in enumerate(sample_features):\n",
    "    X[col].hist(bins=30, ax=axes[idx], edgecolor='black', alpha=0.7)\n",
    "    axes[idx].set_title(f'Distribución de {col}', fontsize=10)\n",
    "    axes[idx].set_xlabel('Valor')\n",
    "    axes[idx].set_ylabel('Frecuencia')\n",
    "\n",
    "plt.tight_layout()\n",
    "plt.show()"
   ]
  },
  {
   "cell_type": "markdown",
   "id": "a307449c",
   "metadata": {},
   "source": [
    "## 5. Análisis de Varianza y Valores Únicos"
   ]
  },
  {
   "cell_type": "code",
   "execution_count": null,
   "id": "7dc67787",
   "metadata": {},
   "outputs": [],
   "source": [
    "# Analizar varianza de las características\n",
    "variances = X.var().sort_values(ascending=False)\n",
    "\n",
    "print(\"=== CARACTERÍSTICAS CON MAYOR VARIANZA ===\")\n",
    "print(variances.head(10))\n",
    "\n",
    "print(\"\\n=== CARACTERÍSTICAS CON MENOR VARIANZA ===\")\n",
    "print(variances.tail(10))\n",
    "\n",
    "# Identificar características con varianza muy baja (potencialmente constantes)\n",
    "low_variance_features = variances[variances < 0.01]\n",
    "if len(low_variance_features) > 0:\n",
    "    print(f\"\\n⚠️ Encontradas {len(low_variance_features)} características con varianza muy baja (< 0.01)\")\n",
    "    print(\"Considerar eliminarlas durante el preprocesamiento\")"
   ]
  },
  {
   "cell_type": "code",
   "execution_count": null,
   "id": "947e9ba4",
   "metadata": {},
   "outputs": [],
   "source": [
    "# Visualización de varianzas\n",
    "plt.figure(figsize=(15, 6))\n",
    "variances.plot(kind='bar', color='coral', edgecolor='black')\n",
    "plt.title('Varianza de las Características', fontsize=14, fontweight='bold')\n",
    "plt.xlabel('Características', fontsize=12)\n",
    "plt.ylabel('Varianza', fontsize=12)\n",
    "plt.xticks(rotation=90)\n",
    "plt.axhline(y=0.01, color='red', linestyle='--', label='Umbral bajo (0.01)')\n",
    "plt.legend()\n",
    "plt.tight_layout()\n",
    "plt.show()"
   ]
  },
  {
   "cell_type": "markdown",
   "id": "0a3131cc",
   "metadata": {},
   "source": [
    "## 6. Análisis de Correlaciones"
   ]
  },
  {
   "cell_type": "code",
   "execution_count": null,
   "id": "1deeefea",
   "metadata": {},
   "outputs": [],
   "source": [
    "# Matriz de correlación (solo para una muestra de características por rendimiento)\n",
    "# Seleccionar las 20 características con mayor varianza\n",
    "top_variance_features = variances.head(20).index.tolist()\n",
    "correlation_matrix = X[top_variance_features].corr()\n",
    "\n",
    "# Visualizar matriz de correlación\n",
    "plt.figure(figsize=(14, 12))\n",
    "sns.heatmap(correlation_matrix, annot=False, cmap='coolwarm', center=0, \n",
    "            square=True, linewidths=0.5, cbar_kws={\"shrink\": 0.8})\n",
    "plt.title('Matriz de Correlación (Top 20 características)', fontsize=14, fontweight='bold')\n",
    "plt.tight_layout()\n",
    "plt.show()"
   ]
  },
  {
   "cell_type": "code",
   "execution_count": null,
   "id": "1f25be38",
   "metadata": {},
   "outputs": [],
   "source": [
    "# Identificar características altamente correlacionadas\n",
    "def find_high_correlations(corr_matrix, threshold=0.8):\n",
    "    high_corr_pairs = []\n",
    "    for i in range(len(corr_matrix.columns)):\n",
    "        for j in range(i+1, len(corr_matrix.columns)):\n",
    "            if abs(corr_matrix.iloc[i, j]) > threshold:\n",
    "                high_corr_pairs.append((\n",
    "                    corr_matrix.columns[i],\n",
    "                    corr_matrix.columns[j],\n",
    "                    corr_matrix.iloc[i, j]\n",
    "                ))\n",
    "    return high_corr_pairs\n",
    "\n",
    "# Calcular correlación en todo el dataset\n",
    "full_corr = X.corr()\n",
    "high_corr = find_high_correlations(full_corr, threshold=0.8)\n",
    "\n",
    "if high_corr:\n",
    "    print(\"\\n=== PARES DE CARACTERÍSTICAS ALTAMENTE CORRELACIONADAS (|r| > 0.8) ===\")\n",
    "    for feat1, feat2, corr_value in high_corr[:10]:  # Mostrar solo las primeras 10\n",
    "        print(f\"{feat1} <-> {feat2}: {corr_value:.3f}\")\n",
    "    print(f\"\\nTotal de pares: {len(high_corr)}\")\n",
    "else:\n",
    "    print(\"✓ No se encontraron pares de características altamente correlacionadas\")"
   ]
  },
  {
   "cell_type": "markdown",
   "id": "38e9e91c",
   "metadata": {},
   "source": [
    "## 7. Análisis por Clase"
   ]
  },
  {
   "cell_type": "code",
   "execution_count": null,
   "id": "80a3f9fc",
   "metadata": {},
   "outputs": [],
   "source": [
    "# Estadísticas por clase\n",
    "print(\"=== ESTADÍSTICAS PROMEDIO POR CLASE ===\")\n",
    "print(\"\\nMedia de características por clase (primeras 10 características):\")\n",
    "class_means = df.groupby('target')[feature_cols[:10]].mean()\n",
    "print(class_means)"
   ]
  },
  {
   "cell_type": "code",
   "execution_count": null,
   "id": "ace17c92",
   "metadata": {},
   "outputs": [],
   "source": [
    "# Comparación de distribuciones entre clases (características con mayor varianza)\n",
    "top_5_features = variances.head(5).index.tolist()\n",
    "\n",
    "fig, axes = plt.subplots(2, 3, figsize=(18, 10))\n",
    "axes = axes.ravel()\n",
    "\n",
    "for idx, feature in enumerate(top_5_features):\n",
    "    for target_class in df['target'].unique():\n",
    "        subset = df[df['target'] == target_class][feature]\n",
    "        axes[idx].hist(subset, alpha=0.5, label=target_class, bins=20)\n",
    "    \n",
    "    axes[idx].set_title(f'Distribución de {feature} por Clase', fontsize=10)\n",
    "    axes[idx].set_xlabel('Valor')\n",
    "    axes[idx].set_ylabel('Frecuencia')\n",
    "    axes[idx].legend()\n",
    "\n",
    "# Ocultar el subplot vacío\n",
    "axes[-1].axis('off')\n",
    "\n",
    "plt.tight_layout()\n",
    "plt.show()"
   ]
  },
  {
   "cell_type": "markdown",
   "id": "37a65205",
   "metadata": {},
   "source": [
    "## 8. Conclusiones del EDA\n",
    "\n",
    "### Resumen de hallazgos:\n",
    "1. **Dataset**: Contiene información sobre características numéricas\n",
    "2. **Clases**: Problema de clasificación multiclase\n",
    "3. **Balance**: Evaluar si hay desbalance entre clases\n",
    "4. **Calidad de datos**: Sin valores faltantes\n",
    "5. **Características**: Múltiples features numéricas que requieren análisis adicional\n",
    "\n",
    "### Próximos pasos:\n",
    "- Preprocesamiento de datos (escalado, selección de características)\n",
    "- Construcción de modelos de clasificación\n",
    "- Evaluación y comparación de modelos\n",
    "- Optimización de hiperparámetros"
   ]
  },
  {
   "cell_type": "code",
   "execution_count": null,
   "id": "5efe8094",
   "metadata": {},
   "outputs": [],
   "source": [
    "# Guardar información clave para el siguiente notebook\n",
    "import json\n",
    "\n",
    "eda_summary = {\n",
    "    'n_samples': len(df),\n",
    "    'n_features': len(feature_cols),\n",
    "    'n_classes': df['target'].nunique(),\n",
    "    'class_distribution': df['target'].value_counts().to_dict(),\n",
    "    'has_missing_values': df.isnull().sum().sum() > 0,\n",
    "    'low_variance_features': low_variance_features.index.tolist() if len(low_variance_features) > 0 else [],\n",
    "    'high_corr_pairs_count': len(high_corr)\n",
    "}\n",
    "\n",
    "with open('../results/eda_summary.json', 'w') as f:\n",
    "    json.dump(eda_summary, f, indent=2)\n",
    "\n",
    "print(\"✓ Resumen del EDA guardado en 'results/eda_summary.json'\")"
   ]
  }
 ],
 "metadata": {
  "language_info": {
   "name": "python"
  }
 },
 "nbformat": 4,
 "nbformat_minor": 5
}
