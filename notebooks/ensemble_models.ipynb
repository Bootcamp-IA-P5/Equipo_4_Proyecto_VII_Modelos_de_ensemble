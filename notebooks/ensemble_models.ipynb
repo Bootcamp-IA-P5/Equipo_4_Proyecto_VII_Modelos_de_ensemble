{
 "cells": [
  {
   "cell_type": "markdown",
   "id": "e5cd732b",
   "metadata": {},
   "source": [
    "# Ensemble Models - Modelos Avanzados\n",
    "\n",
    "Este notebook contiene modelos ensemble para mejorar sobre el baseline establecido."
   ]
  },
  {
   "cell_type": "code",
   "execution_count": null,
   "id": "f441b5dd",
   "metadata": {},
   "outputs": [],
   "source": [
    "import pandas as pd\n",
    "import matplotlib.pyplot as plt\n",
    "import seaborn as sns\n",
    "import numpy as np\n",
    "import pickle\n",
    "\n",
    "from configure import DATA_DIR\n",
    "from src.load_data import load_data"
   ]
  },
  {
   "cell_type": "code",
   "execution_count": 28,
   "id": "36c19a48",
   "metadata": {},
   "outputs": [],
   "source": [
    "# Suppress warnings\n",
    "import warnings\n",
    "warnings.filterwarnings('ignore')"
   ]
  },
  {
   "cell_type": "code",
   "execution_count": 29,
   "id": "f9d6845a",
   "metadata": {},
   "outputs": [],
   "source": [
    "# Load data\n",
    "df = load_data(DATA_DIR/'processed/fetal_health_clean.csv')"
   ]
  },
  {
   "cell_type": "code",
   "execution_count": 30,
   "id": "286c26bf",
   "metadata": {},
   "outputs": [],
   "source": [
    "# Define features and target variable\n",
    "X = df.drop(['fetal_health'], axis = 1)\n",
    "y = df['fetal_health']"
   ]
  },
  {
   "cell_type": "code",
   "execution_count": 31,
   "id": "073d73d6",
   "metadata": {},
   "outputs": [],
   "source": [
    "from sklearn.model_selection import train_test_split\n",
    "# Splitting the training and test variables (mismo random_state que baseline)\n",
    "X_train, X_test, y_train, y_test = train_test_split(X, y, test_size=0.20, random_state=25)"
   ]
  },
  {
   "cell_type": "code",
   "execution_count": 32,
   "id": "021451ad",
   "metadata": {},
   "outputs": [],
   "source": [
    "# Ensemble Models - Modelos avanzados para mejorar baseline\n",
    "\n",
    "from sklearn.pipeline import Pipeline\n",
    "from sklearn.ensemble import GradientBoostingClassifier, RandomForestClassifier, AdaBoostClassifier\n",
    "from sklearn.metrics import accuracy_score, classification_report, confusion_matrix, f1_score, recall_score\n",
    "\n",
    "# Pipelines de modelos ensemble\n",
    "pipeline_rf = Pipeline([('rf_classifier', RandomForestClassifier())])\n",
    "pipeline_gbcl = Pipeline([('gbcl_classifier', GradientBoostingClassifier())])\n",
    "pipeline_ada = Pipeline([('ada_classifier', AdaBoostClassifier())])\n",
    "\n",
    "# Lista de pipelines ensemble\n",
    "ensemble_pipelines = [pipeline_rf, pipeline_gbcl, pipeline_ada]\n",
    "\n",
    "# Diccionario para ensemble\n",
    "ensemble_dict = {0: 'Random Forest', 1: 'Gradient Boost', 2: 'AdaBoost'}\n",
    "\n",
    "# Entrenar modelos ensemble\n",
    "for pipe in ensemble_pipelines:\n",
    "    pipe.fit(X_train, y_train)"
   ]
  },
  {
   "cell_type": "code",
   "execution_count": 33,
   "id": "d42eaca5",
   "metadata": {},
   "outputs": [
    {
     "name": "stdout",
     "output_type": "stream",
     "text": [
      "======================================================================\n",
      "RESULTADOS ENSEMBLE MODELS\n",
      "======================================================================\n"
     ]
    },
    {
     "data": {
      "text/html": [
       "<div>\n",
       "<style scoped>\n",
       "    .dataframe tbody tr th:only-of-type {\n",
       "        vertical-align: middle;\n",
       "    }\n",
       "\n",
       "    .dataframe tbody tr th {\n",
       "        vertical-align: top;\n",
       "    }\n",
       "\n",
       "    .dataframe thead th {\n",
       "        text-align: right;\n",
       "    }\n",
       "</style>\n",
       "<table border=\"1\" class=\"dataframe\">\n",
       "  <thead>\n",
       "    <tr style=\"text-align: right;\">\n",
       "      <th></th>\n",
       "      <th>Model</th>\n",
       "      <th>Train Score</th>\n",
       "      <th>Test Score</th>\n",
       "      <th>F1 Score</th>\n",
       "      <th>Recall Score</th>\n",
       "    </tr>\n",
       "  </thead>\n",
       "  <tbody>\n",
       "    <tr>\n",
       "      <th>0</th>\n",
       "      <td>Random Forest</td>\n",
       "      <td>0.9994</td>\n",
       "      <td>0.9220</td>\n",
       "      <td>0.9198</td>\n",
       "      <td>0.9220</td>\n",
       "    </tr>\n",
       "    <tr>\n",
       "      <th>1</th>\n",
       "      <td>Gradient Boost</td>\n",
       "      <td>0.9941</td>\n",
       "      <td>0.9196</td>\n",
       "      <td>0.9183</td>\n",
       "      <td>0.9196</td>\n",
       "    </tr>\n",
       "    <tr>\n",
       "      <th>2</th>\n",
       "      <td>AdaBoost</td>\n",
       "      <td>0.9095</td>\n",
       "      <td>0.8676</td>\n",
       "      <td>0.8648</td>\n",
       "      <td>0.8676</td>\n",
       "    </tr>\n",
       "  </tbody>\n",
       "</table>\n",
       "</div>"
      ],
      "text/plain": [
       "            Model  Train Score  Test Score  F1 Score  Recall Score\n",
       "0   Random Forest       0.9994      0.9220    0.9198        0.9220\n",
       "1  Gradient Boost       0.9941      0.9196    0.9183        0.9196\n",
       "2        AdaBoost       0.9095      0.8676    0.8648        0.8676"
      ]
     },
     "execution_count": 33,
     "metadata": {},
     "output_type": "execute_result"
    }
   ],
   "source": [
    "# Evaluando modelos ensemble\n",
    "ensemble_results = []\n",
    "for i, model in enumerate(ensemble_pipelines):\n",
    "    train_score = model.score(X_train, y_train)\n",
    "    test_score = model.score(X_test, y_test)\n",
    "    y_pred = model.predict(X_test)\n",
    "    \n",
    "    f1 = f1_score(y_test, y_pred, average='weighted')\n",
    "    recall = recall_score(y_test, y_pred, average='weighted')\n",
    "    \n",
    "    ensemble_results.append([ensemble_dict[i], train_score, test_score, f1, recall])\n",
    "    \n",
    "ensemble_df = pd.DataFrame(ensemble_results, columns=['Model', 'Train Score', 'Test Score', 'F1 Score', 'Recall Score'])\n",
    "ensemble_df = ensemble_df.round(4)\n",
    "print(\"=\" * 70)\n",
    "print(\"RESULTADOS ENSEMBLE MODELS\")\n",
    "print(\"=\" * 70)\n",
    "ensemble_df.sort_values(by='Test Score', ascending=False)"
   ]
  },
  {
   "cell_type": "markdown",
   "id": "212f0953",
   "metadata": {},
   "source": [
    "# ========================================\n",
    "# MEJOR MODELO ENSEMBLE\n",
    "# ========================================"
   ]
  },
  {
   "cell_type": "code",
   "execution_count": 34,
   "id": "8d7db61a",
   "metadata": {},
   "outputs": [
    {
     "name": "stdout",
     "output_type": "stream",
     "text": [
      "======================================================================\n",
      "MEJOR MODELO ENSEMBLE\n",
      "======================================================================\n",
      "🏆 Modelo: Random Forest\n",
      "📊 Test Score: 0.9220\n",
      "📊 F1 Score: 0.9198\n",
      "📊 Recall Score: 0.9220\n",
      "======================================================================\n"
     ]
    }
   ],
   "source": [
    "# Identificar mejor modelo ensemble\n",
    "best_idx = ensemble_df['Test Score'].idxmax()\n",
    "best_model_name = ensemble_df.loc[best_idx, 'Model']\n",
    "best_model = ensemble_pipelines[best_idx]\n",
    "\n",
    "print(\"=\" * 70)\n",
    "print(\"MEJOR MODELO ENSEMBLE\")\n",
    "print(\"=\" * 70)\n",
    "print(f\"🏆 Modelo: {best_model_name}\")\n",
    "print(f\"📊 Test Score: {ensemble_df.loc[best_idx, 'Test Score']:.4f}\")\n",
    "print(f\"📊 F1 Score: {ensemble_df.loc[best_idx, 'F1 Score']:.4f}\")\n",
    "print(f\"📊 Recall Score: {ensemble_df.loc[best_idx, 'Recall Score']:.4f}\")\n",
    "print(\"=\" * 70)"
   ]
  },
  {
   "cell_type": "code",
   "execution_count": 35,
   "id": "366a8415",
   "metadata": {},
   "outputs": [
    {
     "data": {
      "image/png": "[encoded data removed]",
      "text/plain": [
       "<Figure size 800x600 with 2 Axes>"
      ]
     },
     "metadata": {},
     "output_type": "display_data"
    }
   ],
   "source": [
    "# Matriz de confusión del mejor modelo ensemble\n",
    "y_pred_best = best_model.predict(X_test)\n",
    "cm = confusion_matrix(y_test, y_pred_best)\n",
    "\n",
    "plt.figure(figsize=(8,6))\n",
    "sns.heatmap(cm, annot=True, fmt='d', cmap='Blues', \n",
    "            xticklabels=['Normal', 'Suspect', 'Pathological'], \n",
    "            yticklabels=['Normal', 'Suspect', 'Pathological'])\n",
    "plt.ylabel('Actual', fontsize=12)\n",
    "plt.xlabel('Predicted', fontsize=12)\n",
    "plt.title(f'Confusion Matrix - {best_model_name}', fontsize=14, fontweight='bold')\n",
    "plt.show()"
   ]
  },
  {
   "cell_type": "markdown",
   "id": "21924679",
   "metadata": {},
   "source": [
    "## 📋 Conclusiones - Ensemble Models\n",
    "\n",
    "**Ensemble Models Evaluados:**\n",
    "- Random Forest\n",
    "- Gradient Boosting\n",
    "- AdaBoost\n",
    "\n",
    "**Resultado:**\n",
    "- Mejor Ensemble: [Completar después de ejecutar]\n",
    "- Test Score: [Completar]\n",
    "- F1 Score: [Completar]\n",
    "\n",
    "**Observaciones:**\n",
    "- Modelos más complejos con mayor capacidad de aprendizaje\n",
    "- Mayor tiempo de entrenamiento que baseline\n",
    "- Generalmente mejor performance por agregación de predicciones\n",
    "\n",
    "**Next Steps:**\n",
    "- ✅ Ensemble models entrenados y evaluados\n",
    "- ⏭️ Proceder con `model_comparison.ipynb` para comparar baseline vs ensemble\n",
    "- Identificar mejor modelo global\n",
    "- Hyperparameter tuning del mejor modelo"
   ]
  },
  {
   "cell_type": "code",
   "execution_count": 36,
   "id": "0afe00b5",
   "metadata": {},
   "outputs": [
    {
     "name": "stdout",
     "output_type": "stream",
     "text": [
      "✅ Resultados guardados en: /Users/ciprian/Desktop/factoria/projects/Equipo_4_Proyecto_VII_Modelos_de_ensemble/data/processed/ensemble_results.csv\n"
     ]
    }
   ],
   "source": [
    "# Guardar resultados ensemble para comparación\n",
    "ensemble_df.to_csv(DATA_DIR / 'processed' / 'ensemble_results.csv', index=False)\n",
    "print(f\"✅ Resultados guardados en: {DATA_DIR / 'processed' / 'ensemble_results.csv'}\")\n",
    "\n",
    "# Guardar mejor modelo ensemble (opcional - descomentar si quieres guardarlo)\n",
    "# import pickle\n",
    "# with open(MODELS_DIR / 'best_ensemble_model.pkl', 'wb') as f:\n",
    "#     pickle.dump(best_model, f)\n",
    "# print(f\"✅ Modelo guardado en: {MODELS_DIR / 'best_ensemble_model.pkl'}\")"
   ]
  }
 ],
 "metadata": {
  "kernelspec": {
   "display_name": "venv",
   "language": "python",
   "name": "python3"
  },
  "language_info": {
   "codemirror_mode": {
    "name": "ipython",
    "version": 3
   },
   "file_extension": ".py",
   "mimetype": "text/x-python",
   "name": "python",
   "nbconvert_exporter": "python",
   "pygments_lexer": "ipython3",
   "version": "3.12.2"
  }
 },
 "nbformat": 4,
 "nbformat_minor": 5
}
