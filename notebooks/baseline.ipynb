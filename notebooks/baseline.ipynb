{
 "cells": [
  {
   "cell_type": "code",
   "execution_count": 12,
   "id": "2eff558f",
   "metadata": {},
   "outputs": [],
   "source": [
    "import pandas as pd\n",
    "import matplotlib.pyplot as plt\n",
    "import seaborn as sns\n",
    "import numpy as np\n",
    "import missingno as msno\n",
    "\n",
    "from configure import DATA_DIR\n",
    "from src.load_data import load_data"
   ]
  },
  {
   "cell_type": "code",
   "execution_count": 13,
   "id": "9718f190",
   "metadata": {},
   "outputs": [],
   "source": [
    "# Suppress warnings\n",
    "import warnings\n",
    "warnings.filterwarnings('ignore')"
   ]
  },
  {
   "cell_type": "code",
   "execution_count": 14,
   "id": "8aba1f9a",
   "metadata": {},
   "outputs": [],
   "source": [
    "# load data\n",
    "df = load_data(DATA_DIR/'processed/fetal_health_clean.csv')"
   ]
  },
  {
   "cell_type": "code",
   "execution_count": null,
   "id": "b9db21b5",
   "metadata": {},
   "outputs": [],
   "source": [
    "df.columns.to_list()\n"
   ]
  },
  {
   "cell_type": "code",
   "execution_count": 16,
   "id": "09472671",
   "metadata": {},
   "outputs": [],
   "source": [
    "# Define features and target variable\n",
    "X = df.drop(['fetal_health'], axis = 1)\n",
    "y = df['fetal_health']"
   ]
  },
  {
   "cell_type": "code",
   "execution_count": null,
   "id": "b12e1440",
   "metadata": {},
   "outputs": [],
   "source": [
    "from src.baseline import escalar_features\n",
    "# Setting up a standard scaler for the features and analyzing it thereafter\n",
    "X_scaled = escalar_features(X)\n",
    "X_scaled.describe().T"
   ]
  },
  {
   "cell_type": "code",
   "execution_count": 27,
   "id": "ddcbbb59",
   "metadata": {},
   "outputs": [],
   "source": [
    "from sklearn.model_selection import train_test_split\n",
    "# Splitting the training and test variables\n",
    "X_train, X_test, y_train, y_test = train_test_split(X, y,test_size=0.20, random_state=25)"
   ]
  },
  {
   "cell_type": "code",
   "execution_count": 33,
   "id": "e2a37dca",
   "metadata": {},
   "outputs": [],
   "source": [
    "# Building pipelines of model for various classifiers\n",
    "\n",
    "from sklearn.pipeline import Pipeline\n",
    "from sklearn.linear_model import LogisticRegression\n",
    "from sklearn.tree import DecisionTreeClassifier\n",
    "from sklearn.ensemble import GradientBoostingClassifier, RandomForestClassifier\n",
    "from sklearn.neighbors import KNeighborsClassifier\n",
    "\n",
    "from sklearn.metrics import accuracy_score, classification_report, confusion_matrix, f1_score, recall_score\n",
    "\n",
    "pipeline_lr = Pipeline([('lr_classifier', LogisticRegression())])\n",
    "pipeline_dt = Pipeline([('dt_classifier', DecisionTreeClassifier())])\n",
    "pipeline_gbcl = Pipeline([('gbcl_classifier', GradientBoostingClassifier())])\n",
    "pipeline_rf = Pipeline([('rf_classifier', RandomForestClassifier())])\n",
    "pipeline_knn = Pipeline([('knn_classifier', KNeighborsClassifier())])\n",
    "\n",
    "# List of all the pipelines\n",
    "pipelines = [pipeline_lr, pipeline_dt, pipeline_gbcl, pipeline_rf, pipeline_knn]\n",
    "\n",
    "# Dictionary of pipelines and classifier types for ease of reference\n",
    "pipe_dict = {0: 'Logistic Regression', 1: 'Decision Tree', 2: 'Gradient Boost', 3:'RandomForest', 4: 'KNN'}\n",
    "\n",
    "\n",
    "# Fitting the pipelines\n",
    "for pipe in pipelines:\n",
    "    pipe.fit(X_train, y_train)"
   ]
  },
  {
   "cell_type": "code",
   "execution_count": 34,
   "id": "262f80a2",
   "metadata": {},
   "outputs": [
    {
     "data": {
      "text/html": [
       "<div>\n",
       "<style scoped>\n",
       "    .dataframe tbody tr th:only-of-type {\n",
       "        vertical-align: middle;\n",
       "    }\n",
       "\n",
       "    .dataframe tbody tr th {\n",
       "        vertical-align: top;\n",
       "    }\n",
       "\n",
       "    .dataframe thead th {\n",
       "        text-align: right;\n",
       "    }\n",
       "</style>\n",
       "<table border=\"1\" class=\"dataframe\">\n",
       "  <thead>\n",
       "    <tr style=\"text-align: right;\">\n",
       "      <th></th>\n",
       "      <th>Model</th>\n",
       "      <th>Train Score</th>\n",
       "      <th>Test Score</th>\n",
       "      <th>F1 Score</th>\n",
       "      <th>Recall Score</th>\n",
       "    </tr>\n",
       "  </thead>\n",
       "  <tbody>\n",
       "    <tr>\n",
       "      <th>1</th>\n",
       "      <td>Decision Tree</td>\n",
       "      <td>0.999408</td>\n",
       "      <td>0.924350</td>\n",
       "      <td>0.925071</td>\n",
       "      <td>0.924350</td>\n",
       "    </tr>\n",
       "    <tr>\n",
       "      <th>2</th>\n",
       "      <td>Gradient Boost</td>\n",
       "      <td>0.994083</td>\n",
       "      <td>0.921986</td>\n",
       "      <td>0.920913</td>\n",
       "      <td>0.921986</td>\n",
       "    </tr>\n",
       "    <tr>\n",
       "      <th>3</th>\n",
       "      <td>RandomForest</td>\n",
       "      <td>0.999408</td>\n",
       "      <td>0.919622</td>\n",
       "      <td>0.916982</td>\n",
       "      <td>0.919622</td>\n",
       "    </tr>\n",
       "    <tr>\n",
       "      <th>4</th>\n",
       "      <td>KNN</td>\n",
       "      <td>0.930769</td>\n",
       "      <td>0.869976</td>\n",
       "      <td>0.863847</td>\n",
       "      <td>0.869976</td>\n",
       "    </tr>\n",
       "    <tr>\n",
       "      <th>0</th>\n",
       "      <td>Logistic Regression</td>\n",
       "      <td>0.869231</td>\n",
       "      <td>0.851064</td>\n",
       "      <td>0.836383</td>\n",
       "      <td>0.851064</td>\n",
       "    </tr>\n",
       "  </tbody>\n",
       "</table>\n",
       "</div>"
      ],
      "text/plain": [
       "                 Model  Train Score  Test Score  F1 Score  Recall Score\n",
       "1        Decision Tree     0.999408    0.924350  0.925071      0.924350\n",
       "2       Gradient Boost     0.994083    0.921986  0.920913      0.921986\n",
       "3         RandomForest     0.999408    0.919622  0.916982      0.919622\n",
       "4                  KNN     0.930769    0.869976  0.863847      0.869976\n",
       "0  Logistic Regression     0.869231    0.851064  0.836383      0.851064"
      ]
     },
     "execution_count": 34,
     "metadata": {},
     "output_type": "execute_result"
    }
   ],
   "source": [
    "# Evaluating the models\n",
    "results = []\n",
    "for i, model in enumerate(pipelines):\n",
    "    train_score = model.score(X_train, y_train)\n",
    "    test_score = model.score(X_test, y_test)\n",
    "    f1 = f1_score(y_test, model.predict(X_test), average='weighted')\n",
    "    recall = recall_score(y_test, model.predict(X_test), average='weighted')\n",
    "    results.append([pipe_dict[i], train_score, test_score, f1, recall])\n",
    "results_df = pd.DataFrame(results, columns=['Model', 'Train Score', 'Test Score', 'F1 Score', 'Recall Score'])\n",
    "results_df.sort_values(by='Test Score', ascending=False)    "
   ]
  }
 ],
 "metadata": {
  "kernelspec": {
   "display_name": "venv",
   "language": "python",
   "name": "python3"
  },
  "language_info": {
   "codemirror_mode": {
    "name": "ipython",
    "version": 3
   },
   "file_extension": ".py",
   "mimetype": "text/x-python",
   "name": "python",
   "nbconvert_exporter": "python",
   "pygments_lexer": "ipython3",
   "version": "3.12.2"
  }
 },
 "nbformat": 4,
 "nbformat_minor": 5
}
